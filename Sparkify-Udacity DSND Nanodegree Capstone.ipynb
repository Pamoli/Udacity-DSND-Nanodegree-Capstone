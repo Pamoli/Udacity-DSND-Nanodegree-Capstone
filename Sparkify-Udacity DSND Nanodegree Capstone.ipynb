{
 "cells": [
  {
   "cell_type": "markdown",
   "metadata": {},
   "source": [
    "# Sparkify Project Workspace\n",
    "This workspace contains a tiny subset (128MB) of the full dataset available (12GB). Feel free to use this workspace to build your project, or to explore a smaller subset with Spark before deploying your cluster on the cloud. Instructions for setting up your Spark cluster is included in the last lesson of the Extracurricular Spark Course content.\n",
    "\n",
    "You can follow the steps below to guide your data analysis and model building portion of this project."
   ]
  },
  {
   "cell_type": "code",
   "execution_count": 53,
   "metadata": {},
   "outputs": [],
   "source": [
    "# Importing libraries\n",
    "from pyspark.sql import SparkSession\n",
    "from pyspark.sql.functions import isnan, count, when, col, desc, udf, col, sort_array, asc, avg, collect_list\n",
    "from pyspark.sql.functions import sum as Fsum\n",
    "from pyspark.sql.window import Window\n",
    "from pyspark.sql.types import IntegerType, DateType\n",
    "import datetime\n",
    "from pyspark.ml.feature import VectorAssembler, StandardScaler\n",
    "from pyspark.ml.classification import LogisticRegression, RandomForestClassifier, DecisionTreeClassifier, GBTClassifier\n",
    "from pyspark.ml.evaluation import BinaryClassificationEvaluator\n",
    "from pyspark.ml.evaluation import MulticlassClassificationEvaluator\n",
    "from pyspark.mllib.evaluation import MulticlassMetrics\n",
    "from pyspark.ml.tuning import CrossValidator, ParamGridBuilder\n",
    "import seaborn as sns"
   ]
  },
  {
   "cell_type": "code",
   "execution_count": 2,
   "metadata": {},
   "outputs": [],
   "source": [
    "# Creating a Spark session\n",
    "spark = SparkSession \\\n",
    "    .builder \\\n",
    "    .appName(\"SparkifyProject\") \\\n",
    "    .getOrCreate()\n"
   ]
  },
  {
   "cell_type": "markdown",
   "metadata": {},
   "source": [
    "# Load and Clean Dataset\n",
    "In this workspace, the mini-dataset file is `mini_sparkify_event_data.json`. Load and clean the dataset, checking for invalid or missing data - for example, records without userids or sessionids. "
   ]
  },
  {
   "cell_type": "code",
   "execution_count": 3,
   "metadata": {},
   "outputs": [],
   "source": [
    "#Loading the data\n",
    "data = spark.read.json(\"mini_sparkify_event_data.json\")\n",
    "data.createOrReplaceTempView(\"data\")"
   ]
  },
  {
   "cell_type": "code",
   "execution_count": 4,
   "metadata": {},
   "outputs": [
    {
     "name": "stdout",
     "output_type": "stream",
     "text": [
      "+----------------+---------+---------+------+-------------+--------+---------+-----+--------------------+------+--------+-------------+---------+---------+------+-------------+--------------------+------+\n",
      "|          artist|     auth|firstName|gender|itemInSession|lastName|   length|level|            location|method|    page| registration|sessionId|     song|status|           ts|           userAgent|userId|\n",
      "+----------------+---------+---------+------+-------------+--------+---------+-----+--------------------+------+--------+-------------+---------+---------+------+-------------+--------------------+------+\n",
      "|  Martha Tilston|Logged In|    Colin|     M|           50| Freeman|277.89016| paid|     Bakersfield, CA|   PUT|NextSong|1538173362000|       29|Rockpools|   200|1538352117000|Mozilla/5.0 (Wind...|    30|\n",
      "|Five Iron Frenzy|Logged In|    Micah|     M|           79|    Long|236.09424| free|Boston-Cambridge-...|   PUT|NextSong|1538331630000|        8|   Canada|   200|1538352180000|\"Mozilla/5.0 (Win...|     9|\n",
      "+----------------+---------+---------+------+-------------+--------+---------+-----+--------------------+------+--------+-------------+---------+---------+------+-------------+--------------------+------+\n",
      "only showing top 2 rows\n",
      "\n"
     ]
    }
   ],
   "source": [
    "#A snapshop of the data\n",
    "data.show(2)"
   ]
  },
  {
   "cell_type": "code",
   "execution_count": 5,
   "metadata": {},
   "outputs": [
    {
     "name": "stdout",
     "output_type": "stream",
     "text": [
      "Number of empty userID:\n",
      "+-------------+\n",
      "|count(userId)|\n",
      "+-------------+\n",
      "|         8346|\n",
      "+-------------+\n",
      "\n",
      "Number of empty sessionID:\n",
      "+----------------+\n",
      "|count(sessionId)|\n",
      "+----------------+\n",
      "|               0|\n",
      "+----------------+\n",
      "\n"
     ]
    }
   ],
   "source": [
    "#Checking empty user id or session id\n",
    "print(\"Number of empty userID:\")\n",
    "spark.sql(\"SELECT COUNT(userId) \\\n",
    "            FROM data \\\n",
    "            WHERE userId = ''\").show()\n",
    "\n",
    "print(\"Number of empty sessionID:\")\n",
    "spark.sql(\"SELECT COUNT(sessionId) \\\n",
    "            FROM data \\\n",
    "            WHERE sessionId = ''\").show()"
   ]
  },
  {
   "cell_type": "code",
   "execution_count": 6,
   "metadata": {},
   "outputs": [],
   "source": [
    "#Dropping the records with empty user Id\n",
    "data_cleaned=data.filter(data.userId!=\"\")"
   ]
  },
  {
   "cell_type": "code",
   "execution_count": 7,
   "metadata": {},
   "outputs": [
    {
     "name": "stdout",
     "output_type": "stream",
     "text": [
      "Number of unique userids: 225\n"
     ]
    }
   ],
   "source": [
    "#Checking unique number of userids\n",
    "print(\"Number of unique userids: {}\".format(data_cleaned.select(\"userId\").dropDuplicates().count()))"
   ]
  },
  {
   "cell_type": "code",
   "execution_count": 8,
   "metadata": {},
   "outputs": [
    {
     "name": "stdout",
     "output_type": "stream",
     "text": [
      "root\n",
      " |-- artist: string (nullable = true)\n",
      " |-- auth: string (nullable = true)\n",
      " |-- firstName: string (nullable = true)\n",
      " |-- gender: string (nullable = true)\n",
      " |-- itemInSession: long (nullable = true)\n",
      " |-- lastName: string (nullable = true)\n",
      " |-- length: double (nullable = true)\n",
      " |-- level: string (nullable = true)\n",
      " |-- location: string (nullable = true)\n",
      " |-- method: string (nullable = true)\n",
      " |-- page: string (nullable = true)\n",
      " |-- registration: long (nullable = true)\n",
      " |-- sessionId: long (nullable = true)\n",
      " |-- song: string (nullable = true)\n",
      " |-- status: long (nullable = true)\n",
      " |-- ts: long (nullable = true)\n",
      " |-- userAgent: string (nullable = true)\n",
      " |-- userId: string (nullable = true)\n",
      "\n"
     ]
    }
   ],
   "source": [
    "#Checking the columns available\n",
    "data.printSchema()"
   ]
  },
  {
   "cell_type": "code",
   "execution_count": 9,
   "metadata": {},
   "outputs": [
    {
     "name": "stdout",
     "output_type": "stream",
     "text": [
      "For 'auth' column, the unique values are:\n",
      "+----------+\n",
      "|      auth|\n",
      "+----------+\n",
      "|Logged Out|\n",
      "| Cancelled|\n",
      "|     Guest|\n",
      "| Logged In|\n",
      "+----------+\n",
      "\n"
     ]
    }
   ],
   "source": [
    "#Checking unique values of some columns to figure out if they are useful\n",
    "print(\"For 'auth' column, the unique values are:\")\n",
    "spark.sql(\"SELECT DISTINCT auth FROM data\").show()"
   ]
  },
  {
   "cell_type": "code",
   "execution_count": 10,
   "metadata": {},
   "outputs": [
    {
     "name": "stdout",
     "output_type": "stream",
     "text": [
      "For 'itemInSession' column, the unique values are:\n",
      "+-------------+\n",
      "|itemInSession|\n",
      "+-------------+\n",
      "|           26|\n",
      "|           29|\n",
      "|          474|\n",
      "|          964|\n",
      "|           65|\n",
      "|          191|\n",
      "|          418|\n",
      "|          541|\n",
      "|          558|\n",
      "|         1010|\n",
      "|         1224|\n",
      "|         1258|\n",
      "|         1277|\n",
      "|          222|\n",
      "|          270|\n",
      "|          293|\n",
      "|          730|\n",
      "|          938|\n",
      "|         1127|\n",
      "|         1145|\n",
      "+-------------+\n",
      "only showing top 20 rows\n",
      "\n"
     ]
    }
   ],
   "source": [
    "print(\"For 'itemInSession' column, the unique values are:\")\n",
    "spark.sql(\"SELECT DISTINCT itemInSession FROM data\").show()"
   ]
  },
  {
   "cell_type": "code",
   "execution_count": 11,
   "metadata": {},
   "outputs": [
    {
     "name": "stdout",
     "output_type": "stream",
     "text": [
      "For 'level' column, the unique values are:\n",
      "+-----+\n",
      "|level|\n",
      "+-----+\n",
      "| free|\n",
      "| paid|\n",
      "+-----+\n",
      "\n"
     ]
    }
   ],
   "source": [
    "print(\"For 'level' column, the unique values are:\")\n",
    "spark.sql(\"SELECT DISTINCT level FROM data\").show()"
   ]
  },
  {
   "cell_type": "code",
   "execution_count": 12,
   "metadata": {},
   "outputs": [
    {
     "name": "stdout",
     "output_type": "stream",
     "text": [
      "For 'location' column, the unique values are:\n",
      "+--------------------+\n",
      "|            location|\n",
      "+--------------------+\n",
      "|     Gainesville, FL|\n",
      "|Atlantic City-Ham...|\n",
      "|Deltona-Daytona B...|\n",
      "|San Diego-Carlsba...|\n",
      "|Cleveland-Elyria, OH|\n",
      "|Kingsport-Bristol...|\n",
      "|New Haven-Milford...|\n",
      "|Birmingham-Hoover...|\n",
      "|  Corpus Christi, TX|\n",
      "|         Dubuque, IA|\n",
      "|Las Vegas-Henders...|\n",
      "|Indianapolis-Carm...|\n",
      "|Seattle-Tacoma-Be...|\n",
      "|          Albany, OR|\n",
      "|   Winston-Salem, NC|\n",
      "|     Bakersfield, CA|\n",
      "|Los Angeles-Long ...|\n",
      "|Minneapolis-St. P...|\n",
      "|San Francisco-Oak...|\n",
      "|Phoenix-Mesa-Scot...|\n",
      "+--------------------+\n",
      "only showing top 20 rows\n",
      "\n"
     ]
    }
   ],
   "source": [
    "print(\"For 'location' column, the unique values are:\")\n",
    "spark.sql(\"SELECT DISTINCT location FROM data\").show()"
   ]
  },
  {
   "cell_type": "code",
   "execution_count": 13,
   "metadata": {},
   "outputs": [
    {
     "name": "stdout",
     "output_type": "stream",
     "text": [
      "For 'method' column, the unique values are:\n",
      "+------+\n",
      "|method|\n",
      "+------+\n",
      "|   PUT|\n",
      "|   GET|\n",
      "+------+\n",
      "\n"
     ]
    }
   ],
   "source": [
    "print(\"For 'method' column, the unique values are:\")\n",
    "spark.sql(\"SELECT DISTINCT method FROM data\").show()"
   ]
  },
  {
   "cell_type": "code",
   "execution_count": 14,
   "metadata": {},
   "outputs": [
    {
     "name": "stdout",
     "output_type": "stream",
     "text": [
      "For 'registration' column, the unique values are:\n",
      "+-------------+\n",
      "| registration|\n",
      "+-------------+\n",
      "|1529027541000|\n",
      "|1533192032000|\n",
      "|1537779419000|\n",
      "|1534627466000|\n",
      "|1535389443000|\n",
      "|1536642109000|\n",
      "|1537167593000|\n",
      "|1536854322000|\n",
      "|1533908361000|\n",
      "|1536817381000|\n",
      "|1536663902000|\n",
      "|1537672236000|\n",
      "|1536956945000|\n",
      "|1537611935000|\n",
      "|1537751138000|\n",
      "|1533532298000|\n",
      "|1537057938000|\n",
      "|1537964483000|\n",
      "|1528772084000|\n",
      "|1537440271000|\n",
      "+-------------+\n",
      "only showing top 20 rows\n",
      "\n"
     ]
    }
   ],
   "source": [
    "print(\"For 'registration' column, the unique values are:\")\n",
    "spark.sql(\"SELECT DISTINCT registration FROM data\").show()"
   ]
  },
  {
   "cell_type": "code",
   "execution_count": 15,
   "metadata": {},
   "outputs": [
    {
     "name": "stdout",
     "output_type": "stream",
     "text": [
      "For 'status' column, the unique values are:\n",
      "+------+\n",
      "|status|\n",
      "+------+\n",
      "|   307|\n",
      "|   404|\n",
      "|   200|\n",
      "+------+\n",
      "\n"
     ]
    }
   ],
   "source": [
    "print(\"For 'status' column, the unique values are:\")\n",
    "spark.sql(\"SELECT DISTINCT status FROM data\").show()"
   ]
  },
  {
   "cell_type": "code",
   "execution_count": 16,
   "metadata": {},
   "outputs": [
    {
     "name": "stdout",
     "output_type": "stream",
     "text": [
      "For 'page' column, the unique values are:\n",
      "+--------------------+\n",
      "|                page|\n",
      "+--------------------+\n",
      "|              Cancel|\n",
      "|    Submit Downgrade|\n",
      "|         Thumbs Down|\n",
      "|                Home|\n",
      "|           Downgrade|\n",
      "|         Roll Advert|\n",
      "|              Logout|\n",
      "|       Save Settings|\n",
      "|Cancellation Conf...|\n",
      "|               About|\n",
      "| Submit Registration|\n",
      "|            Settings|\n",
      "|               Login|\n",
      "|            Register|\n",
      "|     Add to Playlist|\n",
      "|          Add Friend|\n",
      "|            NextSong|\n",
      "|           Thumbs Up|\n",
      "|                Help|\n",
      "|             Upgrade|\n",
      "+--------------------+\n",
      "only showing top 20 rows\n",
      "\n"
     ]
    }
   ],
   "source": [
    "print(\"For 'page' column, the unique values are:\")\n",
    "spark.sql(\"SELECT DISTINCT page FROM data\").show()"
   ]
  },
  {
   "cell_type": "code",
   "execution_count": 17,
   "metadata": {},
   "outputs": [
    {
     "name": "stdout",
     "output_type": "stream",
     "text": [
      "For 'userAgent' column, the unique values are:\n",
      "+--------------------+\n",
      "|           userAgent|\n",
      "+--------------------+\n",
      "|\"Mozilla/5.0 (Mac...|\n",
      "|\"Mozilla/5.0 (Win...|\n",
      "|Mozilla/5.0 (X11;...|\n",
      "|\"Mozilla/5.0 (Mac...|\n",
      "|\"Mozilla/5.0 (Mac...|\n",
      "|Mozilla/5.0 (Maci...|\n",
      "|Mozilla/5.0 (Wind...|\n",
      "|Mozilla/5.0 (Wind...|\n",
      "|Mozilla/5.0 (comp...|\n",
      "|\"Mozilla/5.0 (Win...|\n",
      "|Mozilla/5.0 (Maci...|\n",
      "|\"Mozilla/5.0 (Win...|\n",
      "|                null|\n",
      "|\"Mozilla/5.0 (iPh...|\n",
      "|\"Mozilla/5.0 (Win...|\n",
      "|Mozilla/5.0 (Wind...|\n",
      "|Mozilla/5.0 (comp...|\n",
      "|Mozilla/5.0 (comp...|\n",
      "|\"Mozilla/5.0 (Mac...|\n",
      "|\"Mozilla/5.0 (Mac...|\n",
      "+--------------------+\n",
      "only showing top 20 rows\n",
      "\n"
     ]
    }
   ],
   "source": [
    "print(\"For 'userAgent' column, the unique values are:\")\n",
    "spark.sql(\"SELECT DISTINCT userAgent FROM data\").show()"
   ]
  },
  {
   "cell_type": "code",
   "execution_count": 18,
   "metadata": {},
   "outputs": [],
   "source": [
    "#From the above exploration, we can see that the column userAgent, status, registration, method, \n",
    "#IteminSession, userAgent are not relevant for our purpose. Also since we already have userIds, we won't need name as identifiers.\n",
    "\n",
    "#Keeping only relevant columns:\n",
    "\n",
    "data_cleaned = data_cleaned.select('artist','auth','gender','length','level','location','sessionId','page','song','ts','userId')"
   ]
  },
  {
   "cell_type": "markdown",
   "metadata": {},
   "source": [
    "# Exploratory Data Analysis\n",
    "When you're working with the full dataset, perform EDA by loading a small subset of the data and doing basic manipulations within Spark. In this workspace, you are already provided a small subset of data you can explore.\n",
    "\n",
    "### Define Churn\n",
    "\n",
    "Once you've done some preliminary analysis, create a column `Churn` to use as the label for your model. I suggest using the `Cancellation Confirmation` events to define your churn, which happen for both paid and free users. As a bonus task, you can also look into the `Downgrade` events.\n",
    "\n",
    "### Explore Data\n",
    "Once you've defined churn, perform some exploratory data analysis to observe the behavior for users who stayed vs users who churned. You can start by exploring aggregates on these two groups of users, observing how much of a specific action they experienced per a certain time unit or number of songs played."
   ]
  },
  {
   "cell_type": "code",
   "execution_count": 19,
   "metadata": {},
   "outputs": [],
   "source": [
    "#Define churn\n",
    "#I'm considering people who cancelled subscription as churned users\n",
    "churned = data_cleaned.groupby(\"userId\").agg(collect_list(\"page\").alias(\"List_of_pages\"))\n",
    "churn_filter = udf(lambda x: \"Cancellation Confirmation\" in x)\n",
    "churned = churned.withColumn(\"Churned\", churn_filter(churned.List_of_pages)).drop(\"List_of_pages\")\n",
    "data_cleaned=churned.join(data_cleaned,'userId')"
   ]
  },
  {
   "cell_type": "code",
   "execution_count": 20,
   "metadata": {},
   "outputs": [
    {
     "name": "stdout",
     "output_type": "stream",
     "text": [
      "Number of unique users who churned: 52\n"
     ]
    }
   ],
   "source": [
    "print(\"Number of unique users who churned: {}\".format(churned.filter(churned.Churned==\"true\").select(\"userId\").dropDuplicates().count()))"
   ]
  },
  {
   "cell_type": "markdown",
   "metadata": {},
   "source": [
    "Next, we'll explore the data and try to discover behaviorial differences between the users who churned and who didn't."
   ]
  },
  {
   "cell_type": "markdown",
   "metadata": {},
   "source": [
    "#### How many songs do users listen to on average between visiting our home page?"
   ]
  },
  {
   "cell_type": "code",
   "execution_count": 21,
   "metadata": {},
   "outputs": [
    {
     "name": "stdout",
     "output_type": "stream",
     "text": [
      "For users who churned: \n",
      "+------------------+\n",
      "|avg(count_results)|\n",
      "+------------------+\n",
      "| 22.67538940809969|\n",
      "+------------------+\n",
      "\n",
      "For users who didn't churn: \n",
      "+------------------+\n",
      "|avg(count_results)|\n",
      "+------------------+\n",
      "|23.768162658070914|\n",
      "+------------------+\n",
      "\n"
     ]
    }
   ],
   "source": [
    "data_cleaned.filter(data_cleaned.Churned==\"true\").createOrReplaceTempView(\"churned_true\")\n",
    "is_home = spark.sql(\"SELECT userID, page, ts, CASE WHEN page = 'Home' THEN 1 ELSE 0 END AS is_home FROM churned_true \\\n",
    "            WHERE (page = 'NextSong') or (page = 'Home') \\\n",
    "            \")\n",
    "is_home.createOrReplaceTempView(\"is_home_table\")\n",
    "cumulative_sum = spark.sql(\"SELECT *, SUM(is_home) OVER \\\n",
    "    (PARTITION BY userID ORDER BY ts DESC ROWS BETWEEN UNBOUNDED PRECEDING AND CURRENT ROW) AS period \\\n",
    "    FROM is_home_table\")\n",
    "cumulative_sum.createOrReplaceTempView(\"period_table\")\n",
    "\n",
    "print(\"For users who churned: \")\n",
    "spark.sql(\"SELECT AVG(count_results) FROM \\\n",
    "          (SELECT COUNT(*) AS count_results FROM period_table \\\n",
    "GROUP BY userID, period, page HAVING page = 'NextSong') AS counts\").show()\n",
    "\n",
    "\n",
    "\n",
    "\n",
    "data_cleaned.filter(data_cleaned.Churned==\"false\").createOrReplaceTempView(\"churned_false\")\n",
    "is_home = spark.sql(\"SELECT userID, page, ts, CASE WHEN page = 'Home' THEN 1 ELSE 0 END AS is_home FROM churned_false \\\n",
    "            WHERE (page = 'NextSong') or (page = 'Home') \\\n",
    "            \")\n",
    "is_home.createOrReplaceTempView(\"is_home_table\")\n",
    "cumulative_sum = spark.sql(\"SELECT *, SUM(is_home) OVER \\\n",
    "    (PARTITION BY userID ORDER BY ts DESC ROWS BETWEEN UNBOUNDED PRECEDING AND CURRENT ROW) AS period \\\n",
    "    FROM is_home_table\")\n",
    "cumulative_sum.createOrReplaceTempView(\"period_table\")\n",
    "\n",
    "print(\"For users who didn't churn: \")\n",
    "spark.sql(\"SELECT AVG(count_results) FROM \\\n",
    "          (SELECT COUNT(*) AS count_results FROM period_table \\\n",
    "GROUP BY userID, period, page HAVING page = 'NextSong') AS counts\").show()\n"
   ]
  },
  {
   "cell_type": "markdown",
   "metadata": {},
   "source": [
    "#### How many songs do users listen to on average daily?"
   ]
  },
  {
   "cell_type": "code",
   "execution_count": 22,
   "metadata": {},
   "outputs": [],
   "source": [
    "date_func=udf(lambda x: datetime.datetime.fromtimestamp(x/1000), DateType())\n",
    "data_cleaned = data_cleaned.withColumn(\"day\", date_func(col(\"ts\")))"
   ]
  },
  {
   "cell_type": "code",
   "execution_count": 23,
   "metadata": {},
   "outputs": [
    {
     "name": "stdout",
     "output_type": "stream",
     "text": [
      "For users who churned: \n",
      "+-----------------+\n",
      "|   avg(num_songs)|\n",
      "+-----------------+\n",
      "|72.93386773547094|\n",
      "+-----------------+\n",
      "\n",
      "For users who didn't churn: \n",
      "+-----------------+\n",
      "|   avg(num_songs)|\n",
      "+-----------------+\n",
      "|74.91754591637358|\n",
      "+-----------------+\n",
      "\n"
     ]
    }
   ],
   "source": [
    "print(\"For users who churned: \")\n",
    "data_cleaned.filter((data_cleaned.Churned==\"true\")&(data_cleaned.page==\"NextSong\")).select(\"userId\", \"day\")\\\n",
    "    .groupBy(\"userId\", \"day\").agg(count(col('day')).alias('num_songs')).agg({'num_songs':'mean'}).show()\n",
    "\n",
    "print(\"For users who didn't churn: \")\n",
    "data_cleaned.filter((data_cleaned.Churned==\"false\")&(data_cleaned.page==\"NextSong\")).select(\"userId\", \"day\")\\\n",
    "    .groupBy(\"userId\", \"day\").agg(count(col('day')).alias('num_songs')).agg({'num_songs':'mean'}).show()"
   ]
  },
  {
   "cell_type": "markdown",
   "metadata": {},
   "source": [
    "#### How many songs do users listen to on an average?"
   ]
  },
  {
   "cell_type": "code",
   "execution_count": 24,
   "metadata": {},
   "outputs": [
    {
     "name": "stdout",
     "output_type": "stream",
     "text": [
      "For users who churned: \n",
      "+-----------------+\n",
      "|   avg(num_songs)|\n",
      "+-----------------+\n",
      "|699.8846153846154|\n",
      "+-----------------+\n",
      "\n",
      "For users who didn't churn: \n",
      "+------------------+\n",
      "|    avg(num_songs)|\n",
      "+------------------+\n",
      "|1108.1734104046243|\n",
      "+------------------+\n",
      "\n"
     ]
    }
   ],
   "source": [
    "print(\"For users who churned: \")\n",
    "data_cleaned.filter((data_cleaned.Churned==\"true\")&(data_cleaned.song!='null')).groupby(\"userId\").agg(count(col('song')).alias('num_songs')).agg({'num_songs':'mean'}).show()\n",
    "\n",
    "print(\"For users who didn't churn: \")\n",
    "data_cleaned.filter((data_cleaned.Churned==\"false\")&(data_cleaned.song!='null')).groupby(\"userId\").agg(count(col('song')).alias('num_songs')).agg({'num_songs':'mean'}).show()"
   ]
  },
  {
   "cell_type": "markdown",
   "metadata": {},
   "source": [
    "#### What is the average song length for the users?"
   ]
  },
  {
   "cell_type": "code",
   "execution_count": 25,
   "metadata": {},
   "outputs": [
    {
     "name": "stdout",
     "output_type": "stream",
     "text": [
      "For users who churned: \n",
      "+------------------+\n",
      "|       avg(length)|\n",
      "+------------------+\n",
      "|248.63279564406366|\n",
      "+------------------+\n",
      "\n",
      "For users who didn't churn: \n",
      "+------------------+\n",
      "|       avg(length)|\n",
      "+------------------+\n",
      "|249.20913538881427|\n",
      "+------------------+\n",
      "\n"
     ]
    }
   ],
   "source": [
    "print(\"For users who churned: \")\n",
    "data_cleaned.filter(data_cleaned.Churned==\"true\").agg({'length':'mean'}).show()\n",
    "print(\"For users who didn't churn: \")\n",
    "data_cleaned.filter(data_cleaned.Churned==\"false\").agg({'length':'mean'}).show()"
   ]
  },
  {
   "cell_type": "markdown",
   "metadata": {},
   "source": [
    "#### What is the average number of thumbs up for the users?"
   ]
  },
  {
   "cell_type": "code",
   "execution_count": 26,
   "metadata": {},
   "outputs": [
    {
     "name": "stdout",
     "output_type": "stream",
     "text": [
      "For users who churned: \n",
      "+-------+\n",
      "|avg(up)|\n",
      "+-------+\n",
      "|  37.18|\n",
      "+-------+\n",
      "\n",
      "For users who didn't churn: \n",
      "+-----------------+\n",
      "|          avg(up)|\n",
      "+-----------------+\n",
      "|62.89411764705882|\n",
      "+-----------------+\n",
      "\n"
     ]
    }
   ],
   "source": [
    "print(\"For users who churned: \")\n",
    "data_cleaned.filter((data_cleaned.Churned==\"true\")&(data_cleaned.page=='Thumbs Up')).groupby(\"userId\").agg(count(col('page')).alias('up')).agg({'up':'mean'}).show()\n",
    "print(\"For users who didn't churn: \")\n",
    "data_cleaned.filter((data_cleaned.Churned==\"false\")&(data_cleaned.page=='Thumbs Up')).groupby(\"userId\").agg(count(col('page')).alias('up')).agg({'up':'mean'}).show()"
   ]
  },
  {
   "cell_type": "markdown",
   "metadata": {},
   "source": [
    "#### What is the average number of thumbs down for the users?"
   ]
  },
  {
   "cell_type": "code",
   "execution_count": 27,
   "metadata": {},
   "outputs": [
    {
     "name": "stdout",
     "output_type": "stream",
     "text": [
      "For users who churned: \n",
      "+------------------+\n",
      "|         avg(down)|\n",
      "+------------------+\n",
      "|10.333333333333334|\n",
      "+------------------+\n",
      "\n",
      "For users who didn't churn: \n",
      "+------------------+\n",
      "|         avg(down)|\n",
      "+------------------+\n",
      "|13.225806451612904|\n",
      "+------------------+\n",
      "\n"
     ]
    }
   ],
   "source": [
    "print(\"For users who churned: \")\n",
    "data_cleaned.filter((data_cleaned.Churned==\"true\")&(data_cleaned.page=='Thumbs Down')).groupby(\"userId\").agg(count(col('page')).alias('down')).agg({'down':'mean'}).show()\n",
    "print(\"For users who didn't churn: \")\n",
    "data_cleaned.filter((data_cleaned.Churned==\"false\")&(data_cleaned.page=='Thumbs Down')).groupby(\"userId\").agg(count(col('page')).alias('down')).agg({'down':'mean'}).show()"
   ]
  },
  {
   "cell_type": "markdown",
   "metadata": {},
   "source": [
    "#### What is the gender distribution?"
   ]
  },
  {
   "cell_type": "code",
   "execution_count": 28,
   "metadata": {},
   "outputs": [
    {
     "name": "stdout",
     "output_type": "stream",
     "text": [
      "For users who churned: \n",
      "+------+-----+\n",
      "|gender|count|\n",
      "+------+-----+\n",
      "|     F|   20|\n",
      "|     M|   32|\n",
      "+------+-----+\n",
      "\n",
      "For users who didn't churn: \n",
      "+------+-----+\n",
      "|gender|count|\n",
      "+------+-----+\n",
      "|     F|   84|\n",
      "|     M|   89|\n",
      "+------+-----+\n",
      "\n"
     ]
    }
   ],
   "source": [
    "print(\"For users who churned: \")\n",
    "data_cleaned.filter(data_cleaned.Churned==\"true\").dropDuplicates(['userId', 'gender']).groupby('gender').count().show()\n",
    "print(\"For users who didn't churn: \")\n",
    "data_cleaned.filter(data_cleaned.Churned==\"false\").dropDuplicates(['userId', 'gender']).groupby('gender').count().show()"
   ]
  },
  {
   "cell_type": "code",
   "execution_count": 64,
   "metadata": {},
   "outputs": [
    {
     "data": {
      "text/plain": [
       "Text(0.5,1,'Distribution of gender between churned vs. not churned users')"
      ]
     },
     "execution_count": 64,
     "metadata": {},
     "output_type": "execute_result"
    },
    {
     "data": {
      "image/png": "[encoded data removed]",
      "text/plain": [
       "<matplotlib.figure.Figure at 0x7f0a05a8e7f0>"
      ]
     },
     "metadata": {
      "needs_background": "light"
     },
     "output_type": "display_data"
    }
   ],
   "source": [
    "#Visualizing the results\n",
    "df_gender = data_cleaned.dropDuplicates([\"userId\", \"gender\"]).groupby([\"Churned\", \"gender\"]).count().sort(\"Churned\").toPandas()\n",
    "sns.barplot(x='Churned', y='count', hue='gender', data=df_gender).set_title(\"Distribution of gender between churned vs. not churned users\")"
   ]
  },
  {
   "cell_type": "markdown",
   "metadata": {},
   "source": [
    "#### What is the distribution of level across the users?"
   ]
  },
  {
   "cell_type": "code",
   "execution_count": 63,
   "metadata": {},
   "outputs": [
    {
     "data": {
      "text/plain": [
       "Text(0.5,1,'Distribution of level across users')"
      ]
     },
     "execution_count": 63,
     "metadata": {},
     "output_type": "execute_result"
    },
    {
     "data": {
      "image/png": "[encoded data removed]",
      "text/plain": [
       "<matplotlib.figure.Figure at 0x7f0a05a79e80>"
      ]
     },
     "metadata": {
      "needs_background": "light"
     },
     "output_type": "display_data"
    }
   ],
   "source": [
    "df_level = data_cleaned.filter(data_cleaned.page==\"Cancellation Confirmation\").groupby(\"level\").count().toPandas()\n",
    "sns.barplot(x=\"level\", y=\"count\", data=df_level).set_title(\"Distribution of level across users\")"
   ]
  },
  {
   "cell_type": "markdown",
   "metadata": {},
   "source": [
    "#### What is the page use distribution between churned users and not churned users?"
   ]
  },
  {
   "cell_type": "code",
   "execution_count": 78,
   "metadata": {},
   "outputs": [],
   "source": [
    "num_churned = data_cleaned.filter(data_cleaned.Churned==\"true\").count()\n",
    "num_not_churned = data_cleaned.filter(data_cleaned.Churned==\"false\").count()\n",
    "df1 = data_cleaned.filter(data_cleaned.Churned==\"true\").filter(data_cleaned.page!=\"NextSong\").groupby([\"page\"]).count()\n",
    "df1=df1.withColumn(\"churned_freq\", df1[\"count\"]/(num_churned/100)).sort(\"page\")\n",
    "\n",
    "df2 = data_cleaned.filter(data_cleaned.Churned==\"false\").filter(data_cleaned.page!=\"NextSong\").groupby([\"page\"]).count()\n",
    "df2 = df2.withColumn(\"not_churned_freq\", df2[\"count\"]/(num_not_churned/100)).sort(\"page\")\n"
   ]
  },
  {
   "cell_type": "code",
   "execution_count": 80,
   "metadata": {},
   "outputs": [
    {
     "data": {
      "text/plain": [
       "Text(0.5,1,'Frequency distribution of churned and not churned users across numbers of hits for different pages')"
      ]
     },
     "execution_count": 80,
     "metadata": {},
     "output_type": "execute_result"
    },
    {
     "data": {
      "image/png": "[encoded data removed]",
      "text/plain": [
       "<matplotlib.figure.Figure at 0x7f0a05870f60>"
      ]
     },
     "metadata": {
      "needs_background": "light"
     },
     "output_type": "display_data"
    }
   ],
   "source": [
    "page_dist = df1.join(df2, \"page\", \"outer\").drop(\"count\").fillna(0).toPandas()\n",
    "page_dist.plot.bar(\"page\").set_title(\"Frequency distribution of churned and not churned users across numbers of hits for different pages\")"
   ]
  },
  {
   "cell_type": "markdown",
   "metadata": {},
   "source": [
    "We can see, for the users who churned, the number of songs and thumbs up sre significantly lower."
   ]
  },
  {
   "cell_type": "markdown",
   "metadata": {},
   "source": [
    "# Feature Engineering\n",
    "Once you've familiarized yourself with the data, build out the features you find promising to train your model on. To work with the full dataset, you can follow the following steps.\n",
    "- Write a script to extract the necessary features from the smaller subset of data\n",
    "- Ensure that your script is scalable, using the best practices discussed in Lesson 3\n",
    "- Try your script on the full data set, debugging your script if necessary\n",
    "\n",
    "If you are working in the classroom workspace, you can just extract features based on the small subset of data contained here. Be sure to transfer over this work to the larger dataset when you work on your Spark cluster."
   ]
  },
  {
   "cell_type": "markdown",
   "metadata": {},
   "source": [
    "##### Now we'll engineer some features at user id level."
   ]
  },
  {
   "cell_type": "code",
   "execution_count": 29,
   "metadata": {},
   "outputs": [
    {
     "name": "stdout",
     "output_type": "stream",
     "text": [
      "+------+-------+\n",
      "|userId|Churned|\n",
      "+------+-------+\n",
      "|100010|      0|\n",
      "|200002|      0|\n",
      "|   125|      1|\n",
      "|   124|      0|\n",
      "|    51|      1|\n",
      "|     7|      0|\n",
      "|    15|      0|\n",
      "|    54|      1|\n",
      "|   155|      0|\n",
      "|100014|      1|\n",
      "|   132|      0|\n",
      "|   154|      0|\n",
      "|   101|      1|\n",
      "|    11|      0|\n",
      "|   138|      0|\n",
      "|300017|      0|\n",
      "|100021|      1|\n",
      "|    29|      1|\n",
      "|    69|      0|\n",
      "|   112|      0|\n",
      "+------+-------+\n",
      "only showing top 20 rows\n",
      "\n"
     ]
    }
   ],
   "source": [
    "model_data=data_cleaned.select('userId').dropDuplicates(['userId',])\n",
    "\n",
    "#Creating one-hot encoded values for the churn variable\n",
    "churn= data_cleaned.select('userId', 'Churned').dropDuplicates().replace({'false': '0', 'true': '1'}, subset='Churned')\n",
    "churn= churn.select('userId', churn.Churned.cast('int'))\n",
    "churn.show()"
   ]
  },
  {
   "cell_type": "markdown",
   "metadata": {},
   "source": [
    "####  Number of songs played"
   ]
  },
  {
   "cell_type": "code",
   "execution_count": 30,
   "metadata": {},
   "outputs": [
    {
     "name": "stdout",
     "output_type": "stream",
     "text": [
      "+------+---------+\n",
      "|userId|num_songs|\n",
      "+------+---------+\n",
      "|100010|      275|\n",
      "|200002|      387|\n",
      "|   125|        8|\n",
      "|   124|     4079|\n",
      "|    51|     2111|\n",
      "|     7|      150|\n",
      "|    15|     1914|\n",
      "|    54|     2841|\n",
      "|   155|      820|\n",
      "|100014|      257|\n",
      "|   132|     1928|\n",
      "|   154|       84|\n",
      "|   101|     1797|\n",
      "|    11|      647|\n",
      "|   138|     2070|\n",
      "|300017|     3632|\n",
      "|100021|      230|\n",
      "|    29|     3028|\n",
      "|    69|     1125|\n",
      "|   112|      215|\n",
      "+------+---------+\n",
      "only showing top 20 rows\n",
      "\n"
     ]
    }
   ],
   "source": [
    "num_songs=data_cleaned.filter(col('song')!='null').groupby(\"userId\").agg(count(col('song')).alias('num_songs'))\n",
    "num_songs.show()"
   ]
  },
  {
   "cell_type": "markdown",
   "metadata": {},
   "source": [
    "#### Number of songs listened to on average per session"
   ]
  },
  {
   "cell_type": "code",
   "execution_count": 31,
   "metadata": {},
   "outputs": [
    {
     "name": "stdout",
     "output_type": "stream",
     "text": [
      "+------+------------------+\n",
      "|userId| songs_per_session|\n",
      "+------+------------------+\n",
      "|100010|39.285714285714285|\n",
      "|200002|              64.5|\n",
      "|   125|               8.0|\n",
      "|   124|145.67857142857142|\n",
      "|    51|             211.1|\n",
      "|     7|21.428571428571427|\n",
      "|    15|136.71428571428572|\n",
      "|    54| 81.17142857142858|\n",
      "|   155|136.66666666666666|\n",
      "|100014|42.833333333333336|\n",
      "|   132|             120.5|\n",
      "|   154|              28.0|\n",
      "|   101|             179.7|\n",
      "|    11|           40.4375|\n",
      "|   138|             138.0|\n",
      "|300017|59.540983606557376|\n",
      "|100021|              46.0|\n",
      "|    29| 89.05882352941177|\n",
      "|    69|             125.0|\n",
      "|   112| 23.88888888888889|\n",
      "+------+------------------+\n",
      "only showing top 20 rows\n",
      "\n"
     ]
    }
   ],
   "source": [
    "songs_per_session = data_cleaned.filter(data_cleaned.page==\"NextSong\").groupby(\"userId\", \"sessionId\").count()\n",
    "songs_per_session = songs_per_session.groupby(\"userId\").agg(avg(songs_per_session[\"count\"]).alias(\"songs_per_session\"))\n",
    "songs_per_session.show()"
   ]
  },
  {
   "cell_type": "markdown",
   "metadata": {},
   "source": [
    "####  Number of thumbs up"
   ]
  },
  {
   "cell_type": "code",
   "execution_count": 32,
   "metadata": {},
   "outputs": [
    {
     "name": "stdout",
     "output_type": "stream",
     "text": [
      "+------+------+\n",
      "|userId|num_up|\n",
      "+------+------+\n",
      "|100010|    17|\n",
      "|200002|    21|\n",
      "|   124|   171|\n",
      "|    51|   100|\n",
      "|     7|     7|\n",
      "|    15|    81|\n",
      "|    54|   163|\n",
      "|   155|    58|\n",
      "|100014|    17|\n",
      "|   132|    96|\n",
      "|   154|    11|\n",
      "|   101|    86|\n",
      "|    11|    40|\n",
      "|   138|    95|\n",
      "|300017|   303|\n",
      "|100021|    11|\n",
      "|    29|   154|\n",
      "|    69|    72|\n",
      "|   112|     9|\n",
      "|    42|   166|\n",
      "+------+------+\n",
      "only showing top 20 rows\n",
      "\n"
     ]
    }
   ],
   "source": [
    "num_up=data_cleaned.filter(data_cleaned.page=='Thumbs Up').groupby(\"userId\").agg(count(col('page')).alias('num_up'))\n",
    "num_up.show()"
   ]
  },
  {
   "cell_type": "markdown",
   "metadata": {},
   "source": [
    "####  Number of thumbs down"
   ]
  },
  {
   "cell_type": "code",
   "execution_count": 33,
   "metadata": {},
   "outputs": [
    {
     "name": "stdout",
     "output_type": "stream",
     "text": [
      "+------+--------+\n",
      "|userId|num_down|\n",
      "+------+--------+\n",
      "|100010|       5|\n",
      "|200002|       6|\n",
      "|   124|      41|\n",
      "|    51|      21|\n",
      "|     7|       1|\n",
      "|    15|      14|\n",
      "|    54|      29|\n",
      "|   155|       3|\n",
      "|100014|       3|\n",
      "|   132|      17|\n",
      "|   101|      16|\n",
      "|    11|       9|\n",
      "|   138|      24|\n",
      "|300017|      28|\n",
      "|100021|       5|\n",
      "|    29|      22|\n",
      "|    69|       9|\n",
      "|   112|       3|\n",
      "|    42|      25|\n",
      "|    73|       7|\n",
      "+------+--------+\n",
      "only showing top 20 rows\n",
      "\n"
     ]
    }
   ],
   "source": [
    "num_down=data_cleaned.filter(data_cleaned.page=='Thumbs Down').groupby(\"userId\").agg(count(col('page')).alias('num_down'))\n",
    "num_down.show()"
   ]
  },
  {
   "cell_type": "markdown",
   "metadata": {},
   "source": [
    "#### Whether an user has downgraded or has visited the downgraded page"
   ]
  },
  {
   "cell_type": "code",
   "execution_count": 34,
   "metadata": {},
   "outputs": [],
   "source": [
    "downgrade = udf(lambda x: int(x==\"Submit Downgrade\"), IntegerType())\n",
    "visit_downgrade = udf(lambda x: int(x=='Downgrade'), IntegerType())"
   ]
  },
  {
   "cell_type": "code",
   "execution_count": 35,
   "metadata": {},
   "outputs": [
    {
     "name": "stdout",
     "output_type": "stream",
     "text": [
      "+------+-------------+-------------------+\n",
      "|userId|sum_downgrade|sum_visit_downgrade|\n",
      "+------+-------------+-------------------+\n",
      "|100010|            0|                  0|\n",
      "|200002|            0|                  5|\n",
      "|   125|            0|                  0|\n",
      "|   124|            0|                 41|\n",
      "|    51|            0|                 23|\n",
      "|     7|            0|                  0|\n",
      "|    15|            0|                 28|\n",
      "|    54|            1|                 39|\n",
      "|   155|            0|                 12|\n",
      "|100014|            0|                  3|\n",
      "|   132|            0|                 19|\n",
      "|   154|            0|                  0|\n",
      "|   101|            0|                 22|\n",
      "|    11|            1|                  5|\n",
      "|   138|            0|                 21|\n",
      "|300017|            0|                 25|\n",
      "|100021|            0|                  0|\n",
      "|    29|            0|                 18|\n",
      "|    69|            0|                  9|\n",
      "|   112|            0|                  0|\n",
      "+------+-------------+-------------------+\n",
      "only showing top 20 rows\n",
      "\n"
     ]
    }
   ],
   "source": [
    "num_downgrade = data_cleaned.withColumn(\"downgrade\", downgrade(\"page\"))\\\n",
    "        .withColumn('visit_downgrade', visit_downgrade('page'))\\\n",
    "        .select(['userId', 'downgrade', 'visit_downgrade'])\\\n",
    "        .groupBy('userId').sum()\\\n",
    "        .withColumnRenamed('sum(downgrade)', 'sum_downgrade')\\\n",
    "        .withColumnRenamed('sum(visit_downgrade)', 'sum_visit_downgrade')\n",
    "num_downgrade.show()"
   ]
  },
  {
   "cell_type": "markdown",
   "metadata": {},
   "source": [
    "#### Number of friends added by each user"
   ]
  },
  {
   "cell_type": "code",
   "execution_count": 36,
   "metadata": {},
   "outputs": [
    {
     "name": "stdout",
     "output_type": "stream",
     "text": [
      "+------+--------+\n",
      "|userId|num_days|\n",
      "+------+--------+\n",
      "|100010|       4|\n",
      "|200002|       4|\n",
      "|   124|      74|\n",
      "|    51|      28|\n",
      "|     7|       1|\n",
      "|    15|      31|\n",
      "|    54|      33|\n",
      "|   155|      11|\n",
      "|100014|       6|\n",
      "|   132|      41|\n",
      "|   154|       3|\n",
      "|   101|      29|\n",
      "|    11|       6|\n",
      "|   138|      41|\n",
      "|300017|      63|\n",
      "|100021|       7|\n",
      "|    29|      47|\n",
      "|    69|      12|\n",
      "|   112|       7|\n",
      "|    42|      52|\n",
      "+------+--------+\n",
      "only showing top 20 rows\n",
      "\n"
     ]
    }
   ],
   "source": [
    "num_friend=data_cleaned.filter(data_cleaned.page==\"Add Friend\").select(\"userId\", \"page\").groupBy(\"userId\").agg(count(col(\"page\")).alias(\"num_days\"))\n",
    "num_friend.show()"
   ]
  },
  {
   "cell_type": "markdown",
   "metadata": {},
   "source": [
    "#### Average number of songs played daily by a user"
   ]
  },
  {
   "cell_type": "code",
   "execution_count": 37,
   "metadata": {},
   "outputs": [
    {
     "name": "stdout",
     "output_type": "stream",
     "text": [
      "+------+------------------+\n",
      "|userId|     avg_num_songs|\n",
      "+------+------------------+\n",
      "|200002|55.285714285714285|\n",
      "|100010|39.285714285714285|\n",
      "|   125|               8.0|\n",
      "|    51| 162.3846153846154|\n",
      "|   124|         127.46875|\n",
      "|     7|             18.75|\n",
      "|    15|100.73684210526316|\n",
      "|    54|              94.7|\n",
      "|   155|             102.5|\n",
      "|   132| 91.80952380952381|\n",
      "|100014|42.833333333333336|\n",
      "|   154|              28.0|\n",
      "|    11|           40.4375|\n",
      "|   101|138.23076923076923|\n",
      "|300017| 75.66666666666667|\n",
      "|   138|121.76470588235294|\n",
      "|    29|104.41379310344827|\n",
      "|100021|              46.0|\n",
      "|    69|             93.75|\n",
      "|    42| 87.14634146341463|\n",
      "+------+------------------+\n",
      "only showing top 20 rows\n",
      "\n"
     ]
    }
   ],
   "source": [
    "avg_num_songs=data_cleaned.filter((data_cleaned.page==\"NextSong\")).select(\"userId\", \"day\")\\\n",
    "    .groupBy(\"userId\", \"day\").agg(count(col(\"day\")).alias(\"num_songs\")).groupBy(\"userId\").agg(avg(col(\"num_songs\")).alias(\"avg_num_songs\"))\n",
    "avg_num_songs.show()"
   ]
  },
  {
   "cell_type": "markdown",
   "metadata": {},
   "source": [
    "#### Average session duration per user"
   ]
  },
  {
   "cell_type": "code",
   "execution_count": 38,
   "metadata": {},
   "outputs": [
    {
     "name": "stdout",
     "output_type": "stream",
     "text": [
      "+------+--------------------+\n",
      "|userId|avg_session_duration|\n",
      "+------+--------------------+\n",
      "|100010|   2.574722222222223|\n",
      "|200002|                4.44|\n",
      "|   125| 0.49277777777777776|\n",
      "|    51|  14.539277777777775|\n",
      "|   124|   9.649904214559387|\n",
      "|     7|  1.4606746031746032|\n",
      "|    54|   5.371493993993996|\n",
      "|    15|   8.804722222222223|\n",
      "|   155|    9.14287037037037|\n",
      "|100014|  3.0802314814814817|\n",
      "|   132|   8.315850694444444|\n",
      "|   154|  1.8447222222222222|\n",
      "|   101|  13.626333333333331|\n",
      "|    11|  2.6896180555555556|\n",
      "|300017|  3.8887345679012344|\n",
      "|   138|   9.403777777777778|\n",
      "|    29|   6.095947712418298|\n",
      "|    69|   8.778086419753087|\n",
      "|100021|   3.587111111111111|\n",
      "|    42|   5.492712765957448|\n",
      "+------+--------------------+\n",
      "only showing top 20 rows\n",
      "\n"
     ]
    }
   ],
   "source": [
    "start = data_cleaned.groupBy('userId', 'sessionId').min('ts').withColumnRenamed('min(ts)', 'start')\n",
    "end = data_cleaned.groupBy('userId', 'sessionId').max('ts').withColumnRenamed('max(ts)', 'end')\n",
    "\n",
    "duration = start.join(end,['userId', 'sessionId'])\n",
    "duration = duration.select('userId', 'sessionId', ((duration.end-duration.start)/(1000*60*60)).alias('session_duration'))\n",
    "\n",
    "avg_duration=duration.groupBy('userId').agg(avg('session_duration').alias('avg_session_duration')).na.fill(0)\n",
    "avg_duration.show()"
   ]
  },
  {
   "cell_type": "markdown",
   "metadata": {},
   "source": [
    "#### Gender of the user"
   ]
  },
  {
   "cell_type": "code",
   "execution_count": 39,
   "metadata": {},
   "outputs": [
    {
     "name": "stdout",
     "output_type": "stream",
     "text": [
      "+------+------+\n",
      "|userId|gender|\n",
      "+------+------+\n",
      "|100010|     0|\n",
      "|200002|     1|\n",
      "|   125|     1|\n",
      "|   124|     0|\n",
      "|    51|     1|\n",
      "|     7|     1|\n",
      "|    15|     1|\n",
      "|    54|     0|\n",
      "|   155|     0|\n",
      "|100014|     1|\n",
      "|   132|     0|\n",
      "|   154|     0|\n",
      "|   101|     1|\n",
      "|    11|     0|\n",
      "|   138|     1|\n",
      "|300017|     0|\n",
      "|100021|     1|\n",
      "|    29|     1|\n",
      "|    69|     0|\n",
      "|   112|     1|\n",
      "+------+------+\n",
      "only showing top 20 rows\n",
      "\n"
     ]
    }
   ],
   "source": [
    "gender=data_cleaned.select('userId', 'gender').dropDuplicates().replace({'M': '1', 'F': '0'}, subset='gender')\n",
    "gender= gender.select('userId', gender.gender.cast('int'))\n",
    "gender.show()"
   ]
  },
  {
   "cell_type": "markdown",
   "metadata": {},
   "source": [
    "#### Level of the user"
   ]
  },
  {
   "cell_type": "code",
   "execution_count": 40,
   "metadata": {},
   "outputs": [
    {
     "name": "stdout",
     "output_type": "stream",
     "text": [
      "+------+-----+\n",
      "|userId|level|\n",
      "+------+-----+\n",
      "|100010|    0|\n",
      "|200002|    0|\n",
      "|200002|    1|\n",
      "|   125|    0|\n",
      "|   124|    1|\n",
      "|    51|    1|\n",
      "|     7|    0|\n",
      "|    15|    1|\n",
      "|    54|    1|\n",
      "|    54|    0|\n",
      "|   155|    0|\n",
      "|   155|    1|\n",
      "|100014|    1|\n",
      "|   132|    0|\n",
      "|   132|    1|\n",
      "|   154|    0|\n",
      "|   101|    0|\n",
      "|   101|    1|\n",
      "|    11|    0|\n",
      "|    11|    1|\n",
      "+------+-----+\n",
      "only showing top 20 rows\n",
      "\n"
     ]
    }
   ],
   "source": [
    "level=data_cleaned.select('userId', 'level').dropDuplicates().replace({'free': '0', 'paid': '1'}, subset='level')\n",
    "level= level.select('userId', level.level.cast('int'))\n",
    "level.show()"
   ]
  },
  {
   "cell_type": "code",
   "execution_count": 41,
   "metadata": {},
   "outputs": [
    {
     "name": "stdout",
     "output_type": "stream",
     "text": [
      "+------+-------+---------+------------------+------+--------+-------------+-------------------+--------+------------------+--------------------+------+-----+\n",
      "|userId|Churned|num_songs| songs_per_session|num_up|num_down|sum_downgrade|sum_visit_downgrade|num_days|     avg_num_songs|avg_session_duration|gender|level|\n",
      "+------+-------+---------+------------------+------+--------+-------------+-------------------+--------+------------------+--------------------+------+-----+\n",
      "|100010|      0|      275|39.285714285714285|    17|       5|            0|                  0|       4|39.285714285714285|   2.574722222222223|     0|    0|\n",
      "|200002|      0|      387|              64.5|    21|       6|            0|                  5|       4|55.285714285714285|                4.44|     1|    0|\n",
      "|200002|      0|      387|              64.5|    21|       6|            0|                  5|       4|55.285714285714285|                4.44|     1|    1|\n",
      "|   124|      0|     4079|145.67857142857142|   171|      41|            0|                 41|      74|         127.46875|   9.649904214559387|     0|    1|\n",
      "|    51|      1|     2111|             211.1|   100|      21|            0|                 23|      28| 162.3846153846154|  14.539277777777775|     1|    1|\n",
      "|     7|      0|      150|21.428571428571427|     7|       1|            0|                  0|       1|             18.75|  1.4606746031746032|     1|    0|\n",
      "|    15|      0|     1914|136.71428571428572|    81|      14|            0|                 28|      31|100.73684210526316|   8.804722222222223|     1|    1|\n",
      "|    54|      1|     2841| 81.17142857142858|   163|      29|            1|                 39|      33|              94.7|   5.371493993993996|     0|    1|\n",
      "|    54|      1|     2841| 81.17142857142858|   163|      29|            1|                 39|      33|              94.7|   5.371493993993996|     0|    0|\n",
      "|   155|      0|      820|136.66666666666666|    58|       3|            0|                 12|      11|             102.5|    9.14287037037037|     0|    0|\n",
      "|   155|      0|      820|136.66666666666666|    58|       3|            0|                 12|      11|             102.5|    9.14287037037037|     0|    1|\n",
      "|100014|      1|      257|42.833333333333336|    17|       3|            0|                  3|       6|42.833333333333336|  3.0802314814814817|     1|    1|\n",
      "|   132|      0|     1928|             120.5|    96|      17|            0|                 19|      41| 91.80952380952381|   8.315850694444444|     0|    0|\n",
      "|   132|      0|     1928|             120.5|    96|      17|            0|                 19|      41| 91.80952380952381|   8.315850694444444|     0|    1|\n",
      "|   101|      1|     1797|             179.7|    86|      16|            0|                 22|      29|138.23076923076923|  13.626333333333331|     1|    0|\n",
      "|   101|      1|     1797|             179.7|    86|      16|            0|                 22|      29|138.23076923076923|  13.626333333333331|     1|    1|\n",
      "|    11|      0|      647|           40.4375|    40|       9|            1|                  5|       6|           40.4375|  2.6896180555555556|     0|    0|\n",
      "|    11|      0|      647|           40.4375|    40|       9|            1|                  5|       6|           40.4375|  2.6896180555555556|     0|    1|\n",
      "|   138|      0|     2070|             138.0|    95|      24|            0|                 21|      41|121.76470588235294|   9.403777777777778|     1|    0|\n",
      "|   138|      0|     2070|             138.0|    95|      24|            0|                 21|      41|121.76470588235294|   9.403777777777778|     1|    1|\n",
      "+------+-------+---------+------------------+------+--------+-------------+-------------------+--------+------------------+--------------------+------+-----+\n",
      "only showing top 20 rows\n",
      "\n"
     ]
    }
   ],
   "source": [
    "#Accumulating all the features in one dataset\n",
    "model_data = model_data.join(churn, on='userId')\\\n",
    "        .join(num_songs, on='userId')\\\n",
    "        .join(songs_per_session, on='userId')\\\n",
    "        .join(num_up, on='userId')\\\n",
    "        .join(num_down, on='userId')\\\n",
    "        .join(num_downgrade, on='userId')\\\n",
    "        .join(num_friend, on='userId')\\\n",
    "        .join(avg_num_songs, on='userId')\\\n",
    "        .join(avg_duration, on='userId')\\\n",
    "        .join(gender, on='userId')\\\n",
    "        .join(level, on='userId')\n",
    "model_data.show()"
   ]
  },
  {
   "cell_type": "code",
   "execution_count": 42,
   "metadata": {},
   "outputs": [
    {
     "name": "stdout",
     "output_type": "stream",
     "text": [
      "+------+-------+---------+------------------+------+--------+-------------+-------------------+--------+------------------+--------------------+------+-----+--------------------+--------------------+\n",
      "|userId|Churned|num_songs| songs_per_session|num_up|num_down|sum_downgrade|sum_visit_downgrade|num_days|     avg_num_songs|avg_session_duration|gender|level|     features_vector|     features_scaled|\n",
      "+------+-------+---------+------------------+------+--------+-------------+-------------------+--------+------------------+--------------------+------+-----+--------------------+--------------------+\n",
      "|100010|      0|      275|39.285714285714285|    17|       5|            0|                  0|       4|39.285714285714285|   2.574722222222223|     0|    0|[275.0,39.2857142...|[0.24104208590807...|\n",
      "|200002|      0|      387|              64.5|    21|       6|            0|                  5|       4|55.285714285714285|                4.44|     1|    0|[387.0,64.5,21.0,...|[0.33921195362336...|\n",
      "|200002|      0|      387|              64.5|    21|       6|            0|                  5|       4|55.285714285714285|                4.44|     1|    1|[387.0,64.5,21.0,...|[0.33921195362336...|\n",
      "|   124|      0|     4079|145.67857142857142|   171|      41|            0|                 41|      74|         127.46875|   9.649904214559387|     0|    1|[4079.0,145.67857...|[3.57531152152376...|\n",
      "|    51|      1|     2111|             211.1|   100|      21|            0|                 23|      28| 162.3846153846154|  14.539277777777775|     1|    1|[2111.0,211.1,100...|[1.85032670309798...|\n",
      "|     7|      0|      150|21.428571428571427|     7|       1|            0|                  0|       1|             18.75|  1.4606746031746032|     1|    0|[150.0,21.4285714...|[0.13147750140440...|\n",
      "|    15|      0|     1914|136.71428571428572|    81|      14|            0|                 28|      31|100.73684210526316|   8.804722222222223|     1|    1|[1914.0,136.71428...|[1.67765291792019...|\n",
      "|    54|      1|     2841| 81.17142857142858|   163|      29|            1|                 39|      33|              94.7|   5.371493993993996|     0|    1|[2841.0,81.171428...|[2.49018387659941...|\n",
      "|    54|      1|     2841| 81.17142857142858|   163|      29|            1|                 39|      33|              94.7|   5.371493993993996|     0|    0|[2841.0,81.171428...|[2.49018387659941...|\n",
      "|   155|      0|      820|136.66666666666666|    58|       3|            0|                 12|      11|             102.5|    9.14287037037037|     0|    0|[820.0,136.666666...|[0.71874367434407...|\n",
      "|   155|      0|      820|136.66666666666666|    58|       3|            0|                 12|      11|             102.5|    9.14287037037037|     0|    1|[820.0,136.666666...|[0.71874367434407...|\n",
      "|100014|      1|      257|42.833333333333336|    17|       3|            0|                  3|       6|42.833333333333336|  3.0802314814814817|     1|    1|[257.0,42.8333333...|[0.22526478573954...|\n",
      "|   132|      0|     1928|             120.5|    96|      17|            0|                 19|      41| 91.80952380952381|   8.315850694444444|     0|    0|[1928.0,120.5,96....|[1.68992415138460...|\n",
      "|   132|      0|     1928|             120.5|    96|      17|            0|                 19|      41| 91.80952380952381|   8.315850694444444|     0|    1|[1928.0,120.5,96....|[1.68992415138460...|\n",
      "|   101|      1|     1797|             179.7|    86|      16|            0|                 22|      29|138.23076923076923|  13.626333333333331|     1|    0|[1797.0,179.7,86....|[1.57510046682476...|\n",
      "|   101|      1|     1797|             179.7|    86|      16|            0|                 22|      29|138.23076923076923|  13.626333333333331|     1|    1|[1797.0,179.7,86....|[1.57510046682476...|\n",
      "|    11|      0|      647|           40.4375|    40|       9|            1|                  5|       6|           40.4375|  2.6896180555555556|     0|    0|[647.0,40.4375,40...|[0.56710628939099...|\n",
      "|    11|      0|      647|           40.4375|    40|       9|            1|                  5|       6|           40.4375|  2.6896180555555556|     0|    1|[647.0,40.4375,40...|[0.56710628939099...|\n",
      "|   138|      0|     2070|             138.0|    95|      24|            0|                 21|      41|121.76470588235294|   9.403777777777778|     1|    0|[2070.0,138.0,95....|[1.81438951938077...|\n",
      "|   138|      0|     2070|             138.0|    95|      24|            0|                 21|      41|121.76470588235294|   9.403777777777778|     1|    1|[2070.0,138.0,95....|[1.81438951938077...|\n",
      "+------+-------+---------+------------------+------+--------+-------------+-------------------+--------+------------------+--------------------+------+-----+--------------------+--------------------+\n",
      "only showing top 20 rows\n",
      "\n"
     ]
    }
   ],
   "source": [
    "#feature scaling\n",
    "assembler = VectorAssembler(inputCols=model_data.columns[2:], outputCol='features_vector')\n",
    "model_data = assembler.transform(model_data)\n",
    "scaler = StandardScaler(inputCol='features_vector', outputCol='features_scaled', withStd=True)\n",
    "scaler = scaler.fit(model_data)\n",
    "model_data = scaler.transform(model_data)\n",
    "\n",
    "model_data.show()"
   ]
  },
  {
   "cell_type": "code",
   "execution_count": 43,
   "metadata": {},
   "outputs": [],
   "source": [
    "#Final dataset having the features and the label only\n",
    "model_data = model_data.select(model_data.features_scaled.alias('features'), model_data.Churned.alias('label'))"
   ]
  },
  {
   "cell_type": "code",
   "execution_count": 44,
   "metadata": {},
   "outputs": [
    {
     "name": "stdout",
     "output_type": "stream",
     "text": [
      "+--------------------+-----+\n",
      "|            features|label|\n",
      "+--------------------+-----+\n",
      "|[0.24104208590807...|    0|\n",
      "|[0.33921195362336...|    0|\n",
      "|[0.33921195362336...|    0|\n",
      "|[3.57531152152376...|    0|\n",
      "+--------------------+-----+\n",
      "only showing top 4 rows\n",
      "\n"
     ]
    }
   ],
   "source": [
    "model_data.show(4)"
   ]
  },
  {
   "cell_type": "markdown",
   "metadata": {},
   "source": [
    "# Modeling\n",
    "Split the full dataset into train, test, and validation sets. Test out several of the machine learning methods you learned. Evaluate the accuracy of the various models, tuning parameters as necessary. Determine your winning model based on test accuracy and report results on the validation set. Since the churned users are a fairly small subset, I suggest using F1 score as the metric to optimize."
   ]
  },
  {
   "cell_type": "code",
   "execution_count": 45,
   "metadata": {},
   "outputs": [],
   "source": [
    "#Function to evaluate model\n",
    "def evaluate(validation_data):\n",
    "    true_positive = validation_data.filter((validation_data.prediction==1)& (validation_data.label == validation_data.prediction) ).count()\n",
    "    true_negative = validation_data.filter((validation_data.prediction==0)& (validation_data.label == validation_data.prediction) ).count()\n",
    "    false_positive = validation_data.filter((validation_data.prediction==1)& (validation_data.label != validation_data.prediction) ).count()\n",
    "    false_negative = validation_data.filter((validation_data.prediction==0)& (validation_data.label != validation_data.prediction) ).count()\n",
    "    accuracy = validation_data.filter(validation_data.label == validation_data.prediction).count()/validation_data.count()\n",
    "    precision = true_positive/(true_positive+false_positive)\n",
    "    recall = true_positive/(true_positive+false_negative)\n",
    "    f1_score = 2 * precision * recall / (precision + recall)\n",
    "    \n",
    "    print (\"Acuuracy: {}\".format(accuracy))\n",
    "    print (\"Precision: {}\".format(precision))\n",
    "    print (\"Recall: {}\".format(recall))\n",
    "    print (\"f1-score: {}\".format(f1_score))"
   ]
  },
  {
   "cell_type": "code",
   "execution_count": 46,
   "metadata": {},
   "outputs": [],
   "source": [
    "#Doing a train-test-validation split\n",
    "train, remaining_data = model_data.randomSplit([0.7, 0.3], seed=42)\n",
    "test, validation = remaining_data.randomSplit([0.5, 0.5], seed=42)"
   ]
  },
  {
   "cell_type": "markdown",
   "metadata": {},
   "source": [
    "Now I'll train some machine learning models on the final dataset. However, it is is quite small so we wopuldn't apply any deep learning algorithms here."
   ]
  },
  {
   "cell_type": "markdown",
   "metadata": {},
   "source": [
    "#### Logistic regression"
   ]
  },
  {
   "cell_type": "code",
   "execution_count": 47,
   "metadata": {},
   "outputs": [],
   "source": [
    "logistic = LogisticRegression(featuresCol = 'features', labelCol = 'label', maxIter=10)\n",
    "\n",
    "param_grid = ParamGridBuilder() \\\n",
    "    .addGrid(logistic.regParam, [0.1, 0.01]).build()\n",
    "\n",
    "    #.addGrid(logistic.elasticNetParam,[0.0, 0.5]) \\\n",
    "    #.addGrid(logistic.aggregationDepth,[2, 4]) \\\n",
    "    \n",
    "cross_validation = CrossValidator(estimator=logistic,\n",
    "                          estimatorParamMaps=param_grid,\n",
    "                          evaluator=MulticlassClassificationEvaluator(),\n",
    "                          numFolds=3)\n",
    "model_logistic = cross_validation.fit(train)\n",
    "pred_logistic = model_logistic.transform(validation)"
   ]
  },
  {
   "cell_type": "code",
   "execution_count": 48,
   "metadata": {},
   "outputs": [
    {
     "name": "stdout",
     "output_type": "stream",
     "text": [
      "Performance of the logistic model on validation dataset:\n",
      "Acuuracy: 0.7333333333333333\n",
      "Precision: 0.6666666666666666\n",
      "Recall: 0.09523809523809523\n",
      "f1-score: 0.16666666666666666\n"
     ]
    }
   ],
   "source": [
    "print(\"Performance of the logistic model on validation dataset:\")\n",
    "evaluate(pred_logistic.select(['label', 'prediction']))\n"
   ]
  },
  {
   "cell_type": "code",
   "execution_count": 105,
   "metadata": {},
   "outputs": [],
   "source": [
    "model_logistic.save(\"logistic.model\")"
   ]
  },
  {
   "cell_type": "markdown",
   "metadata": {},
   "source": [
    "#### Random forest"
   ]
  },
  {
   "cell_type": "code",
   "execution_count": 48,
   "metadata": {},
   "outputs": [],
   "source": [
    "rf = RandomForestClassifier(featuresCol = 'features', labelCol = 'label')\n",
    "param_grid = ParamGridBuilder() \\\n",
    "    .addGrid(rf.numTrees ,[20, 10]) \\\n",
    "    .addGrid(rf.featureSubsetStrategy ,['sqrt', 'onethird']) \\\n",
    "    .build()\n",
    "\n",
    "cross_validation = CrossValidator(estimator=rf,\n",
    "                          estimatorParamMaps=param_grid,\n",
    "                          evaluator=MulticlassClassificationEvaluator(),\n",
    "                          numFolds=3)\n",
    "model_rf = cross_validation.fit(train)\n",
    "pred_rf = model_rf.transform(validation)"
   ]
  },
  {
   "cell_type": "code",
   "execution_count": 49,
   "metadata": {},
   "outputs": [
    {
     "name": "stdout",
     "output_type": "stream",
     "text": [
      "Performance of the random forest model on validation dataset:\n",
      "Acuuracy: 0.7733333333333333\n",
      "Precision: 1.0\n",
      "Recall: 0.19047619047619047\n",
      "f1-score: 0.32\n"
     ]
    }
   ],
   "source": [
    "print(\"Performance of the random forest model on validation dataset:\")\n",
    "evaluate(pred_rf.select(['label', 'prediction']))"
   ]
  },
  {
   "cell_type": "markdown",
   "metadata": {},
   "source": [
    "#### Decision tree classifier"
   ]
  },
  {
   "cell_type": "code",
   "execution_count": 47,
   "metadata": {},
   "outputs": [],
   "source": [
    "dt = DecisionTreeClassifier(featuresCol = 'features', labelCol = 'label')\n",
    "param_grid = ParamGridBuilder() \\\n",
    "    .addGrid(dt.maxDepth,[3, 5, 10]) \\\n",
    "    .build()\n",
    "cross_validation = CrossValidator(estimator=dt,\n",
    "                          estimatorParamMaps=param_grid,\n",
    "                          evaluator=MulticlassClassificationEvaluator(),\n",
    "                          numFolds=3)\n",
    "model_dt = cross_validation.fit(train)\n",
    "pred_dt = model_dt.transform(validation)"
   ]
  },
  {
   "cell_type": "code",
   "execution_count": 49,
   "metadata": {
    "scrolled": true
   },
   "outputs": [
    {
     "name": "stdout",
     "output_type": "stream",
     "text": [
      "Performance of the decision tree model on validation dataset:\n",
      "Acuuracy: 0.8266666666666667\n",
      "Precision: 0.7857142857142857\n",
      "Recall: 0.5238095238095238\n",
      "f1-score: 0.6285714285714286\n"
     ]
    }
   ],
   "source": [
    "print(\"Performance of the decision tree model on validation dataset:\")\n",
    "evaluate(pred_dt.select(['label', 'prediction']))"
   ]
  },
  {
   "cell_type": "markdown",
   "metadata": {},
   "source": [
    "#### Gradient boosting classifier"
   ]
  },
  {
   "cell_type": "code",
   "execution_count": 47,
   "metadata": {},
   "outputs": [],
   "source": [
    "gbt = GBTClassifier(featuresCol = 'features', labelCol = 'label')\n",
    "param_grid = ParamGridBuilder() \\\n",
    "    .addGrid(gbt.maxDepth,[3, 5, 10]) \\\n",
    "    .build()\n",
    "cross_validation = CrossValidator(estimator=gbt,\n",
    "                          estimatorParamMaps=param_grid,\n",
    "                          evaluator=MulticlassClassificationEvaluator(),\n",
    "                          numFolds=3)\n",
    "model_gbt = cross_validation.fit(train)\n",
    "pred_gbt = model_gbt.transform(validation)"
   ]
  },
  {
   "cell_type": "code",
   "execution_count": 49,
   "metadata": {},
   "outputs": [
    {
     "name": "stdout",
     "output_type": "stream",
     "text": [
      "Performance of the random gradient boosting model on validation dataset:\n",
      "Acuuracy: 0.8\n",
      "Precision: 0.6875\n",
      "Recall: 0.5238095238095238\n",
      "f1-score: 0.5945945945945946\n"
     ]
    }
   ],
   "source": [
    "print(\"Performance of the gradient boosting model on validation dataset:\")\n",
    "evaluate(pred_gbt.select(['label', 'prediction']))"
   ]
  },
  {
   "cell_type": "markdown",
   "metadata": {},
   "source": [
    "Among all the models we find the decision tree classifier to be performing the best. So, we'll apply it to the test data."
   ]
  },
  {
   "cell_type": "code",
   "execution_count": 51,
   "metadata": {},
   "outputs": [
    {
     "name": "stdout",
     "output_type": "stream",
     "text": [
      "Performance of the decision tree model on test dataset:\n",
      "Acuuracy: 0.9310344827586207\n",
      "Precision: 1.0\n",
      "Recall: 0.7142857142857143\n",
      "f1-score: 0.8333333333333333\n"
     ]
    }
   ],
   "source": [
    "pred_test= model_dt.transform(test)\n",
    "print(\"Performance of the decision tree model on test dataset:\")\n",
    "evaluate(pred_test.select(['label', 'prediction']))"
   ]
  },
  {
   "cell_type": "markdown",
   "metadata": {},
   "source": [
    "The model has a f1-score of 0.83 which is quite good considering the small dataset."
   ]
  },
  {
   "cell_type": "markdown",
   "metadata": {},
   "source": [
    "## Conclusion and possible improvements"
   ]
  },
  {
   "cell_type": "markdown",
   "metadata": {},
   "source": [
    "We are able to predict from the test set which customers are more likely to churn with 93% accuracy. As the dataset is imbalanced, we should evaluate the performance based opn f-score, and that is 0.83 for the test dataset. However, this dataset is quite small in size, and I hope the results will further improve if we try training it on the full dataset with deep learning algorithms on clusters, which is the optional part of this project that I'm going to skip. Also, for the existing models, we can try to tune more hyperparameters and improve the f1-score (I have tried to do this, but the kernel kept dying, so had to go with fewer number of hyperparameters to tune.)"
   ]
  },
  {
   "cell_type": "markdown",
   "metadata": {},
   "source": [
    "# Final Steps\n",
    "Clean up your code, adding comments and renaming variables to make the code easier to read and maintain. Refer to the Spark Project Overview page and Data Scientist Capstone Project Rubric to make sure you are including all components of the capstone project and meet all expectations. Remember, this includes thorough documentation in a README file in a Github repository, as well as a web app or blog post."
   ]
  },
  {
   "cell_type": "code",
   "execution_count": null,
   "metadata": {},
   "outputs": [],
   "source": []
  }
 ],
 "metadata": {
  "kernelspec": {
   "display_name": "Python 3",
   "language": "python",
   "name": "python3"
  },
  "language_info": {
   "codemirror_mode": {
    "name": "ipython",
    "version": 3
   },
   "file_extension": ".py",
   "mimetype": "text/x-python",
   "name": "python",
   "nbconvert_exporter": "python",
   "pygments_lexer": "ipython3",
   "version": "3.6.3"
  }
 },
 "nbformat": 4,
 "nbformat_minor": 2
}
